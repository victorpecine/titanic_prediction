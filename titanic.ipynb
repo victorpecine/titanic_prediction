{
  "nbformat": 4,
  "nbformat_minor": 0,
  "metadata": {
    "colab": {
      "provenance": [],
      "toc_visible": true,
      "mount_file_id": "1jASRmp5UwU2DgLi6xPAP9xUKAHzQg82S",
      "authorship_tag": "ABX9TyNAB3Cwheswc8o3ODsIW+wA"
    },
    "kernelspec": {
      "name": "python3",
      "display_name": "Python 3"
    },
    "language_info": {
      "name": "python"
    }
  },
  "cells": [
    {
      "cell_type": "markdown",
      "source": [
        "# Bibliotecas"
      ],
      "metadata": {
        "id": "0EJ9ZafLcUWF"
      }
    },
    {
      "cell_type": "code",
      "source": [
        "import pandas as pd\n",
        "import matplotlib.pyplot as plt\n",
        "import numpy as np\n",
        "\n",
        "from sklearn.ensemble import RandomForestClassifier\n",
        "from sklearn.metrics import accuracy_score\n",
        "from sklearn.model_selection import train_test_split"
      ],
      "metadata": {
        "id": "_2zBGnBX3oev"
      },
      "execution_count": null,
      "outputs": []
    },
    {
      "cell_type": "code",
      "execution_count": null,
      "metadata": {
        "id": "6bpnghr92TST"
      },
      "outputs": [],
      "source": [
        "teste = pd.read_csv('/content/drive/MyDrive/Datasets/Titanic/test.csv')"
      ]
    },
    {
      "cell_type": "code",
      "execution_count": null,
      "metadata": {
        "id": "S3GcWssj4rVY"
      },
      "outputs": [],
      "source": [
        "treino = pd.read_csv('/content/drive/MyDrive/Datasets/Titanic/train.csv')"
      ]
    },
    {
      "cell_type": "code",
      "source": [
        "sex_binario = {'male': 0, 'female': 1}"
      ],
      "metadata": {
        "id": "ocAum87fYV2p"
      },
      "execution_count": null,
      "outputs": []
    },
    {
      "cell_type": "code",
      "source": [
        "teste['Sex'].replace(sex_binario, inplace=True)"
      ],
      "metadata": {
        "id": "HYPe_tx1YjaZ"
      },
      "execution_count": null,
      "outputs": []
    },
    {
      "cell_type": "code",
      "source": [
        "treino['Sex'].replace(sex_binario, inplace=True)"
      ],
      "metadata": {
        "id": "P1ypbIghZLNu"
      },
      "execution_count": null,
      "outputs": []
    },
    {
      "cell_type": "markdown",
      "source": [
        "# Modelo"
      ],
      "metadata": {
        "id": "fjfCKbHHcqfH"
      }
    },
    {
      "cell_type": "code",
      "source": [
        "variaveis = ['Sex', 'Age']\n",
        "\n",
        "X = treino[variaveis].fillna(-1)\n",
        "\n",
        "y = treino['Survived']"
      ],
      "metadata": {
        "id": "sEM31IR5X_Uw"
      },
      "execution_count": null,
      "outputs": []
    },
    {
      "cell_type": "code",
      "source": [
        "X_treino, X_teste, y_treino, y_teste = train_test_split(X, y, test_size=0.3)"
      ],
      "metadata": {
        "id": "YshkT0zJgSfu"
      },
      "execution_count": null,
      "outputs": []
    },
    {
      "cell_type": "code",
      "source": [
        "modelo = RandomForestClassifier(n_estimators=100, n_jobs=-1, random_state=0)\n",
        "\n",
        "modelo.fit(X_treino, y_treino)"
      ],
      "metadata": {
        "colab": {
          "base_uri": "https://localhost:8080/"
        },
        "id": "oGKPEqpmX1sd",
        "outputId": "cc5ddc5c-9190-4eca-ddab-2df76de1d37e"
      },
      "execution_count": null,
      "outputs": [
        {
          "output_type": "execute_result",
          "data": {
            "text/plain": [
              "RandomForestClassifier(n_jobs=-1, random_state=0)"
            ]
          },
          "metadata": {},
          "execution_count": 63
        }
      ]
    },
    {
      "cell_type": "code",
      "source": [
        "modelo.fit(X, y)"
      ],
      "metadata": {
        "colab": {
          "base_uri": "https://localhost:8080/"
        },
        "id": "SttKuMpSaMbk",
        "outputId": "0288b0c9-4b60-416b-f294-5d1b0ea36914"
      },
      "execution_count": null,
      "outputs": [
        {
          "output_type": "execute_result",
          "data": {
            "text/plain": [
              "RandomForestClassifier(n_jobs=-1, random_state=0)"
            ]
          },
          "metadata": {},
          "execution_count": 52
        }
      ]
    },
    {
      "cell_type": "code",
      "source": [
        "p = modelo.predict(X_teste)"
      ],
      "metadata": {
        "id": "8RtdCY9_avfJ"
      },
      "execution_count": null,
      "outputs": []
    },
    {
      "cell_type": "markdown",
      "source": [
        "## Score"
      ],
      "metadata": {
        "id": "udBZ2nDhcthn"
      }
    },
    {
      "cell_type": "code",
      "source": [
        "score = accuracy_score(y_teste, p)\n",
        "\n",
        "score"
      ],
      "metadata": {
        "colab": {
          "base_uri": "https://localhost:8080/"
        },
        "id": "tZKZT9Zua2WI",
        "outputId": "099f16ac-55dc-437d-c397-a66340a50569"
      },
      "execution_count": null,
      "outputs": [
        {
          "output_type": "execute_result",
          "data": {
            "text/plain": [
              "0.7649253731343284"
            ]
          },
          "metadata": {},
          "execution_count": 67
        }
      ]
    }
  ]
}